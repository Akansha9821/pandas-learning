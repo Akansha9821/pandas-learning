{
 "cells": [
  {
   "cell_type": "code",
   "execution_count": 1,
   "id": "3106567b",
   "metadata": {},
   "outputs": [],
   "source": [
    "import pandas as pd"
   ]
  },
  {
   "cell_type": "code",
   "execution_count": 2,
   "id": "11300b1b",
   "metadata": {},
   "outputs": [],
   "source": [
    "df = pd.DataFrame({'Data': ['Geeks', 'For', 'geeks', 'is',\n",
    "                               'portal', 'for', 'geeks']})"
   ]
  },
  {
   "cell_type": "code",
   "execution_count": 3,
   "id": "714971f2",
   "metadata": {},
   "outputs": [
    {
     "data": {
      "text/html": [
       "<div>\n",
       "<style scoped>\n",
       "    .dataframe tbody tr th:only-of-type {\n",
       "        vertical-align: middle;\n",
       "    }\n",
       "\n",
       "    .dataframe tbody tr th {\n",
       "        vertical-align: top;\n",
       "    }\n",
       "\n",
       "    .dataframe thead th {\n",
       "        text-align: right;\n",
       "    }\n",
       "</style>\n",
       "<table border=\"1\" class=\"dataframe\">\n",
       "  <thead>\n",
       "    <tr style=\"text-align: right;\">\n",
       "      <th></th>\n",
       "      <th>Data</th>\n",
       "    </tr>\n",
       "  </thead>\n",
       "  <tbody>\n",
       "    <tr>\n",
       "      <th>0</th>\n",
       "      <td>Geeks</td>\n",
       "    </tr>\n",
       "    <tr>\n",
       "      <th>1</th>\n",
       "      <td>For</td>\n",
       "    </tr>\n",
       "    <tr>\n",
       "      <th>2</th>\n",
       "      <td>geeks</td>\n",
       "    </tr>\n",
       "    <tr>\n",
       "      <th>3</th>\n",
       "      <td>is</td>\n",
       "    </tr>\n",
       "    <tr>\n",
       "      <th>4</th>\n",
       "      <td>portal</td>\n",
       "    </tr>\n",
       "    <tr>\n",
       "      <th>5</th>\n",
       "      <td>for</td>\n",
       "    </tr>\n",
       "    <tr>\n",
       "      <th>6</th>\n",
       "      <td>geeks</td>\n",
       "    </tr>\n",
       "  </tbody>\n",
       "</table>\n",
       "</div>"
      ],
      "text/plain": [
       "     Data\n",
       "0   Geeks\n",
       "1     For\n",
       "2   geeks\n",
       "3      is\n",
       "4  portal\n",
       "5     for\n",
       "6   geeks"
      ]
     },
     "execution_count": 3,
     "metadata": {},
     "output_type": "execute_result"
    }
   ],
   "source": [
    "df"
   ]
  },
  {
   "cell_type": "code",
   "execution_count": 8,
   "id": "35093817",
   "metadata": {},
   "outputs": [],
   "source": [
    "writer = pd.ExcelWriter('pandasEx.xlsx')"
   ]
  },
  {
   "cell_type": "code",
   "execution_count": 9,
   "id": "dd40ab03",
   "metadata": {},
   "outputs": [],
   "source": [
    "df.to_excel(writer, sheet_name ='Sheet1')"
   ]
  },
  {
   "cell_type": "code",
   "execution_count": 10,
   "id": "b82f33d9",
   "metadata": {},
   "outputs": [],
   "source": [
    "writer.save()"
   ]
  },
  {
   "cell_type": "code",
   "execution_count": 12,
   "id": "96d6b325",
   "metadata": {},
   "outputs": [],
   "source": [
    "# import pandas as pd\n",
    "import pandas as pd\n",
    "  \n",
    "  \n",
    "# Create some Pandas dataframes from some data.\n",
    "df1 = pd.DataFrame({'Data': [11, 12, 13, 14]})\n",
    "df2 = pd.DataFrame({'Data': [21, 22, 23, 24]})\n",
    "df3 = pd.DataFrame({'Data': [31, 32, 33, 34]})\n",
    "df4 = pd.DataFrame({'Data': [41, 42, 43, 44]})\n",
    "  \n",
    "# Create a Pandas Excel writer object\n",
    "# using XlsxWriter as the engine.\n",
    "writer = pd.ExcelWriter('pandas_positioning.xlsx')\n",
    "  \n",
    "# write and Positioning the dataframes in the worksheet.\n",
    "# Default position, cell A1.\n",
    "df1.to_excel(writer, sheet_name ='Sheet1')  \n",
    "df2.to_excel(writer, sheet_name ='Sheet1', startcol = 3)\n",
    "df3.to_excel(writer, sheet_name ='Sheet1', startrow = 6)\n",
    "  \n",
    "# It is also possible to write the\n",
    "# dataframe without the header and index.\n",
    "df4.to_excel(writer, sheet_name ='Sheet1',\n",
    "             startrow = 7, startcol = 4,\n",
    "             header = False, index = False)\n",
    "  \n",
    "# Close the Pandas Excel writer object\n",
    "# and output the Excel file.\n",
    "writer.save()"
   ]
  },
  {
   "cell_type": "code",
   "execution_count": null,
   "id": "95c2c149",
   "metadata": {},
   "outputs": [],
   "source": []
  }
 ],
 "metadata": {
  "kernelspec": {
   "display_name": "Python 3 (ipykernel)",
   "language": "python",
   "name": "python3"
  },
  "language_info": {
   "codemirror_mode": {
    "name": "ipython",
    "version": 3
   },
   "file_extension": ".py",
   "mimetype": "text/x-python",
   "name": "python",
   "nbconvert_exporter": "python",
   "pygments_lexer": "ipython3",
   "version": "3.7.0"
  }
 },
 "nbformat": 4,
 "nbformat_minor": 5
}
